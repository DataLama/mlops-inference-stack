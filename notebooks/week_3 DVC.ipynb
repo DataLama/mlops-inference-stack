{
 "cells": [
  {
   "cell_type": "markdown",
   "id": "b08cbf26-9fb5-4e55-b5cb-a061c8d2527f",
   "metadata": {},
   "source": [
    "# DVC\n",
    "> DVC is a new type of data versioning, workflow, and experiment management software, that builds upon Git."
   ]
  },
  {
   "cell_type": "markdown",
   "id": "69f147d3-7d0b-4fca-a790-7ae30703345c",
   "metadata": {
    "tags": []
   },
   "source": [
    "## 🎬 Initialising DVC\n",
    "\n",
    "- install\n",
    "\n",
    "```bash\n",
    "pip instal dvc\n",
    "pip install 'dvc[s3]' # for using remote storage\n",
    "```\n",
    "\n",
    "- initialization\n",
    "    - Assuming DVC is already installed, let's initialize it by running dvc init inside a Git project:\n",
    "    - `.dvc` and `.dvcignore` are created.\n",
    "```bash\n",
    "dvc init\n",
    "```"
   ]
  },
  {
   "cell_type": "markdown",
   "id": "b513a3d9-3f1b-481b-b0bc-cad6bc424e29",
   "metadata": {
    "tags": []
   },
   "source": [
    "## 💽 Configuring Remote Storage\n",
    "\n",
    "- Now let's configure some remote storage to store our trained models (or datasets).\n",
    "- Remote Storage\n",
    "    - aws s3 bucekt\n",
    "\n",
    "```bash\n",
    "dvc remote add -d nlp-storage s3://ap-aidev-nlp-modelarchive-test\n",
    "```\n",
    "\n",
    "- dvc configuration\n",
    "\n",
    "```bash\n",
    "[core]\n",
    "    remote = nlp-storage\n",
    "['remote \"nlp-storage\"']\n",
    "    url = s3://ap-aidev-nlp-modelarchive-test\n",
    "```"
   ]
  },
  {
   "cell_type": "markdown",
   "id": "2fce31ea-abfc-4888-8ffb-c263349c9856",
   "metadata": {},
   "source": [
    "- dvc with s3\n",
    "    - dvc는 내부적으로 aws cli를 활용함.\n",
    "    - s3 cli의 credential을 활용하기 위해 profile을 세팅해줘야됨.\n",
    "\n",
    "```bash\n",
    "dvc remote modify nlp-storage profile aidev\n",
    "```"
   ]
  },
  {
   "cell_type": "markdown",
   "id": "4206a628-3898-4e12-83b1-c9433eee330f",
   "metadata": {},
   "source": [
    "- dvc push\n",
    "\n",
    "```bash\n",
    "dvc push sbst_v1.dvc\n",
    "```"
   ]
  },
  {
   "cell_type": "markdown",
   "id": "1d883f55-6b86-46ca-95b0-f222cecdde8e",
   "metadata": {},
   "source": []
  },
  {
   "cell_type": "markdown",
   "id": "678ba132-8f45-4901-bcc1-c518bec9bd29",
   "metadata": {},
   "source": [
    "[core]\n",
    "    remote = nlp-storage\n",
    "['remote \"nlp-storage\"']\n",
    "    url = s3://ap-aidev-nlp-modelarchive-test"
   ]
  },
  {
   "cell_type": "code",
   "execution_count": null,
   "id": "f7461e5b-c210-4b81-89ae-d5c84792fe44",
   "metadata": {},
   "outputs": [],
   "source": [
    "ap-aidev-nlp-modelarchive-test"
   ]
  },
  {
   "cell_type": "code",
   "execution_count": null,
   "id": "7ff9e18d-64c8-402e-8c65-e71cb0363d92",
   "metadata": {},
   "outputs": [],
   "source": [
    "dvc remote add -d myremote s3://mybucket/path"
   ]
  },
  {
   "cell_type": "code",
   "execution_count": null,
   "id": "a499ea02-693d-4ad3-99f5-eeedc346736c",
   "metadata": {},
   "outputs": [],
   "source": [
    "dvc remote add -d nlp"
   ]
  },
  {
   "cell_type": "code",
   "execution_count": null,
   "id": "98812931-6c79-46cb-b9ff-f145b9f6aa61",
   "metadata": {},
   "outputs": [],
   "source": [
    "a"
   ]
  },
  {
   "cell_type": "code",
   "execution_count": null,
   "id": "e33bf6dc-49a0-4c6d-8393-c8c5a30dfb77",
   "metadata": {},
   "outputs": [],
   "source": [
    "s3://ap-aidev-nlp-modelarchive-test"
   ]
  }
 ],
 "metadata": {
  "kernelspec": {
   "display_name": "Python 3 (ipykernel)",
   "language": "python",
   "name": "python3"
  },
  "language_info": {
   "codemirror_mode": {
    "name": "ipython",
    "version": 3
   },
   "file_extension": ".py",
   "mimetype": "text/x-python",
   "name": "python",
   "nbconvert_exporter": "python",
   "pygments_lexer": "ipython3",
   "version": "3.8.10"
  },
  "widgets": {
   "application/vnd.jupyter.widget-state+json": {
    "state": {},
    "version_major": 2,
    "version_minor": 0
   }
  }
 },
 "nbformat": 4,
 "nbformat_minor": 5
}
